{
 "cells": [
  {
   "cell_type": "code",
   "execution_count": 24,
   "id": "ae79d30c-2c75-4515-905d-33425646505e",
   "metadata": {},
   "outputs": [],
   "source": [
    "import numpy as np\n",
    "import pandas as pd\n",
    "from scipy import stats\n",
    " \n",
    "from data_bpm.ml_logic.preprocessor import preprocess_features\n",
    "\n",
    "from sklearn.svm import SVC \n",
    "from sklearn.model_selection import RandomizedSearchCV, cross_validate"
   ]
  },
  {
   "cell_type": "code",
   "execution_count": 8,
   "id": "59732260-24eb-47b6-9ce8-54897605037a",
   "metadata": {},
   "outputs": [],
   "source": [
    "data = pd.read_csv('../raw_data/data_for_ml.csv',index_col=0)"
   ]
  },
  {
   "cell_type": "code",
   "execution_count": 9,
   "id": "1b2874ff-3d31-4f6f-942e-97bb756e8898",
   "metadata": {},
   "outputs": [
    {
     "data": {
      "text/html": [
       "<div>\n",
       "<style scoped>\n",
       "    .dataframe tbody tr th:only-of-type {\n",
       "        vertical-align: middle;\n",
       "    }\n",
       "\n",
       "    .dataframe tbody tr th {\n",
       "        vertical-align: top;\n",
       "    }\n",
       "\n",
       "    .dataframe thead th {\n",
       "        text-align: right;\n",
       "    }\n",
       "</style>\n",
       "<table border=\"1\" class=\"dataframe\">\n",
       "  <thead>\n",
       "    <tr style=\"text-align: right;\">\n",
       "      <th></th>\n",
       "      <th>description</th>\n",
       "      <th>headline</th>\n",
       "      <th>location</th>\n",
       "      <th>company</th>\n",
       "      <th>jobTitle</th>\n",
       "      <th>jobDescription</th>\n",
       "      <th>jobLocation</th>\n",
       "      <th>jobDateRange</th>\n",
       "      <th>jobDuration</th>\n",
       "      <th>company2</th>\n",
       "      <th>...</th>\n",
       "      <th>skill2</th>\n",
       "      <th>endorsement2</th>\n",
       "      <th>skill3</th>\n",
       "      <th>endorsement3</th>\n",
       "      <th>skill4</th>\n",
       "      <th>endorsement4</th>\n",
       "      <th>skill5</th>\n",
       "      <th>endorsement5</th>\n",
       "      <th>skill6</th>\n",
       "      <th>endorsement6</th>\n",
       "    </tr>\n",
       "    <tr>\n",
       "      <th>UserID</th>\n",
       "      <th></th>\n",
       "      <th></th>\n",
       "      <th></th>\n",
       "      <th></th>\n",
       "      <th></th>\n",
       "      <th></th>\n",
       "      <th></th>\n",
       "      <th></th>\n",
       "      <th></th>\n",
       "      <th></th>\n",
       "      <th></th>\n",
       "      <th></th>\n",
       "      <th></th>\n",
       "      <th></th>\n",
       "      <th></th>\n",
       "      <th></th>\n",
       "      <th></th>\n",
       "      <th></th>\n",
       "      <th></th>\n",
       "      <th></th>\n",
       "      <th></th>\n",
       "    </tr>\n",
       "  </thead>\n",
       "  <tbody>\n",
       "    <tr>\n",
       "      <th>512.0</th>\n",
       "      <td>Experienced professional with the ability to c...</td>\n",
       "      <td>General Manager - US Finance, Legal, HR, Accou...</td>\n",
       "      <td>Carrollton, Texas, United States</td>\n",
       "      <td>orbis systems</td>\n",
       "      <td>General Manager, Orbis International Technolog...</td>\n",
       "      <td>A highly driven professional leading the US op...</td>\n",
       "      <td>Carrollton, Texas, United States</td>\n",
       "      <td>May 2022 - Present</td>\n",
       "      <td>1 yr 10 mos</td>\n",
       "      <td>Texas Instruments</td>\n",
       "      <td>...</td>\n",
       "      <td>Management</td>\n",
       "      <td>21.0</td>\n",
       "      <td>Strategic Planning</td>\n",
       "      <td>21.0</td>\n",
       "      <td>Forecasting</td>\n",
       "      <td>21.0</td>\n",
       "      <td>Organizational Development</td>\n",
       "      <td>21.0</td>\n",
       "      <td>Business Strategy</td>\n",
       "      <td>21.0</td>\n",
       "    </tr>\n",
       "    <tr>\n",
       "      <th>652.0</th>\n",
       "      <td>I am a Product Owner at World Simplified UG, a...</td>\n",
       "      <td>Tech product support intern at Holidu</td>\n",
       "      <td>Berlin, Berlin, Germany</td>\n",
       "      <td>holidu</td>\n",
       "      <td>Tech product support intern</td>\n",
       "      <td>NaN</td>\n",
       "      <td>Munich, Bavaria, Germany · Hybrid</td>\n",
       "      <td>Oct 2023 - Present</td>\n",
       "      <td>5 mos</td>\n",
       "      <td>World Simplified UG</td>\n",
       "      <td>...</td>\n",
       "      <td>Product Strategies</td>\n",
       "      <td>NaN</td>\n",
       "      <td>Team Leadership</td>\n",
       "      <td>NaN</td>\n",
       "      <td>Cross-functional Team Leadership</td>\n",
       "      <td>1.0</td>\n",
       "      <td>Project Planning</td>\n",
       "      <td>21.0</td>\n",
       "      <td>Business Development</td>\n",
       "      <td>NaN</td>\n",
       "    </tr>\n",
       "    <tr>\n",
       "      <th>618.0</th>\n",
       "      <td>Designer &amp; Problem Solver | CS Student | Aimin...</td>\n",
       "      <td>Making Interfaces Sexier - UI/UX/Dev</td>\n",
       "      <td>Berlin, Berlin, Germany</td>\n",
       "      <td>a.t.e.m. management gmbh</td>\n",
       "      <td>Web Designer</td>\n",
       "      <td>Skills: Web Design · Cascading Style Sheets (C...</td>\n",
       "      <td>Berlin, Germany</td>\n",
       "      <td>Aug 2022 - Present</td>\n",
       "      <td>1 yr 7 mos</td>\n",
       "      <td>Freelance</td>\n",
       "      <td>...</td>\n",
       "      <td>Java</td>\n",
       "      <td>NaN</td>\n",
       "      <td>JavaScript</td>\n",
       "      <td>2.0</td>\n",
       "      <td>Cascading Style Sheets (CSS)</td>\n",
       "      <td>2.0</td>\n",
       "      <td>Front-End Development</td>\n",
       "      <td>1.0</td>\n",
       "      <td>Wireframing</td>\n",
       "      <td>1.0</td>\n",
       "    </tr>\n",
       "    <tr>\n",
       "      <th>96.0</th>\n",
       "      <td>NaN</td>\n",
       "      <td>Product &amp; Growth</td>\n",
       "      <td>Berlin, Berlin, Germany</td>\n",
       "      <td>clink</td>\n",
       "      <td>Chief Experience Officer</td>\n",
       "      <td>NaN</td>\n",
       "      <td>Berlin, Germany</td>\n",
       "      <td>Sep 2023 - Present</td>\n",
       "      <td>6 mos</td>\n",
       "      <td>OptioPay Group (now Clink)</td>\n",
       "      <td>...</td>\n",
       "      <td>Start-ups</td>\n",
       "      <td>40.0</td>\n",
       "      <td>Cross-functional Team Leadership</td>\n",
       "      <td>3.0</td>\n",
       "      <td>Business Development</td>\n",
       "      <td>33.0</td>\n",
       "      <td>Mobile Applications</td>\n",
       "      <td>10.0</td>\n",
       "      <td>Mobile Technology</td>\n",
       "      <td>35.0</td>\n",
       "    </tr>\n",
       "    <tr>\n",
       "      <th>194.0</th>\n",
       "      <td>As a product marketing manager at the JetBrain...</td>\n",
       "      <td>Product marketing manager at JetBrains | Mentor</td>\n",
       "      <td>Berlin, Berlin, Germany</td>\n",
       "      <td>jetbrains</td>\n",
       "      <td>Product Marketing Manager</td>\n",
       "      <td>NaN</td>\n",
       "      <td>Berlin, Germany</td>\n",
       "      <td>Oct 2021 - Present</td>\n",
       "      <td>2 yrs 5 mos</td>\n",
       "      <td>Product Marketing Alliance</td>\n",
       "      <td>...</td>\n",
       "      <td>Performance marketing</td>\n",
       "      <td>8.0</td>\n",
       "      <td>Marketing Communications</td>\n",
       "      <td>8.0</td>\n",
       "      <td>Customer Insight</td>\n",
       "      <td>13.0</td>\n",
       "      <td>Market Analysis</td>\n",
       "      <td>12.0</td>\n",
       "      <td>Marketing Research</td>\n",
       "      <td>11.0</td>\n",
       "    </tr>\n",
       "  </tbody>\n",
       "</table>\n",
       "<p>5 rows × 36 columns</p>\n",
       "</div>"
      ],
      "text/plain": [
       "                                              description  \\\n",
       "UserID                                                      \n",
       "512.0   Experienced professional with the ability to c...   \n",
       "652.0   I am a Product Owner at World Simplified UG, a...   \n",
       "618.0   Designer & Problem Solver | CS Student | Aimin...   \n",
       "96.0                                                  NaN   \n",
       "194.0   As a product marketing manager at the JetBrain...   \n",
       "\n",
       "                                                 headline  \\\n",
       "UserID                                                      \n",
       "512.0   General Manager - US Finance, Legal, HR, Accou...   \n",
       "652.0               Tech product support intern at Holidu   \n",
       "618.0                Making Interfaces Sexier - UI/UX/Dev   \n",
       "96.0                                     Product & Growth   \n",
       "194.0     Product marketing manager at JetBrains | Mentor   \n",
       "\n",
       "                                location                   company  \\\n",
       "UserID                                                               \n",
       "512.0   Carrollton, Texas, United States             orbis systems   \n",
       "652.0            Berlin, Berlin, Germany                    holidu   \n",
       "618.0            Berlin, Berlin, Germany  a.t.e.m. management gmbh   \n",
       "96.0             Berlin, Berlin, Germany                     clink   \n",
       "194.0            Berlin, Berlin, Germany                 jetbrains   \n",
       "\n",
       "                                                 jobTitle  \\\n",
       "UserID                                                      \n",
       "512.0   General Manager, Orbis International Technolog...   \n",
       "652.0                         Tech product support intern   \n",
       "618.0                                        Web Designer   \n",
       "96.0                             Chief Experience Officer   \n",
       "194.0                           Product Marketing Manager   \n",
       "\n",
       "                                           jobDescription  \\\n",
       "UserID                                                      \n",
       "512.0   A highly driven professional leading the US op...   \n",
       "652.0                                                 NaN   \n",
       "618.0   Skills: Web Design · Cascading Style Sheets (C...   \n",
       "96.0                                                  NaN   \n",
       "194.0                                                 NaN   \n",
       "\n",
       "                              jobLocation        jobDateRange  jobDuration  \\\n",
       "UserID                                                                       \n",
       "512.0    Carrollton, Texas, United States  May 2022 - Present  1 yr 10 mos   \n",
       "652.0   Munich, Bavaria, Germany · Hybrid  Oct 2023 - Present        5 mos   \n",
       "618.0                     Berlin, Germany  Aug 2022 - Present   1 yr 7 mos   \n",
       "96.0                      Berlin, Germany  Sep 2023 - Present        6 mos   \n",
       "194.0                     Berlin, Germany  Oct 2021 - Present  2 yrs 5 mos   \n",
       "\n",
       "                          company2  ...                 skill2 endorsement2  \\\n",
       "UserID                              ...                                       \n",
       "512.0            Texas Instruments  ...             Management         21.0   \n",
       "652.0          World Simplified UG  ...     Product Strategies          NaN   \n",
       "618.0                    Freelance  ...                   Java          NaN   \n",
       "96.0    OptioPay Group (now Clink)  ...              Start-ups         40.0   \n",
       "194.0   Product Marketing Alliance  ...  Performance marketing          8.0   \n",
       "\n",
       "                                  skill3 endorsement3  \\\n",
       "UserID                                                  \n",
       "512.0                 Strategic Planning         21.0   \n",
       "652.0                    Team Leadership          NaN   \n",
       "618.0                         JavaScript          2.0   \n",
       "96.0    Cross-functional Team Leadership          3.0   \n",
       "194.0           Marketing Communications          8.0   \n",
       "\n",
       "                                  skill4 endorsement4  \\\n",
       "UserID                                                  \n",
       "512.0                        Forecasting         21.0   \n",
       "652.0   Cross-functional Team Leadership          1.0   \n",
       "618.0       Cascading Style Sheets (CSS)          2.0   \n",
       "96.0                Business Development         33.0   \n",
       "194.0                   Customer Insight         13.0   \n",
       "\n",
       "                            skill5 endorsement5                skill6  \\\n",
       "UserID                                                                  \n",
       "512.0   Organizational Development         21.0     Business Strategy   \n",
       "652.0             Project Planning         21.0  Business Development   \n",
       "618.0        Front-End Development          1.0           Wireframing   \n",
       "96.0           Mobile Applications         10.0     Mobile Technology   \n",
       "194.0              Market Analysis         12.0    Marketing Research   \n",
       "\n",
       "       endorsement6  \n",
       "UserID               \n",
       "512.0          21.0  \n",
       "652.0           NaN  \n",
       "618.0           1.0  \n",
       "96.0           35.0  \n",
       "194.0          11.0  \n",
       "\n",
       "[5 rows x 36 columns]"
      ]
     },
     "execution_count": 9,
     "metadata": {},
     "output_type": "execute_result"
    }
   ],
   "source": [
    "data.head()"
   ]
  },
  {
   "cell_type": "code",
   "execution_count": 10,
   "id": "caf6b13e-9dd8-4e40-899f-14b19a9aecda",
   "metadata": {},
   "outputs": [
    {
     "data": {
      "text/plain": [
       "Attendance\n",
       "0    257\n",
       "1    212\n",
       "Name: count, dtype: int64"
      ]
     },
     "execution_count": 10,
     "metadata": {},
     "output_type": "execute_result"
    }
   ],
   "source": [
    "data['Attendance'] = np.random.randint(2, size=len(data))\n",
    "data['Attendance'].value_counts()\n"
   ]
  },
  {
   "cell_type": "code",
   "execution_count": 11,
   "id": "490ab851-baf1-400c-84e7-2c5d848c7dbe",
   "metadata": {},
   "outputs": [
    {
     "name": "stdout",
     "output_type": "stream",
     "text": [
      "✅ X_processed, with shape (469, 19)\n"
     ]
    },
    {
     "data": {
      "text/plain": [
       "array([[1.        , 0.07942238, 0.48854962, ..., 0.29299318, 0.49060405,\n",
       "        0.32672827],\n",
       "       [1.        , 0.01805054, 0.01908397, ..., 0.54317082, 0.5251908 ,\n",
       "        0.47089369],\n",
       "       [1.        , 0.06859206, 0.12977099, ..., 0.55465581, 0.3494278 ,\n",
       "        0.50221248],\n",
       "       ...,\n",
       "       [1.        , 0.02527076, 0.03053435, ..., 0.33954943, 0.47326337,\n",
       "        0.37682269],\n",
       "       [1.        , 0.09747292, 0.1870229 , ..., 0.38999081, 0.45004396,\n",
       "        0.43173486],\n",
       "       [1.        , 0.07581227, 0.09923664, ..., 0.56077216, 0.54691866,\n",
       "        0.38516635]])"
      ]
     },
     "execution_count": 11,
     "metadata": {},
     "output_type": "execute_result"
    }
   ],
   "source": [
    "y_train = data['Attendance']\n",
    "X_train = data.drop(columns = ['Attendance'])\n",
    "\n",
    "X_processed = preprocess_features(X_train)\n",
    "X_processed"
   ]
  },
  {
   "cell_type": "code",
   "execution_count": 12,
   "id": "28b19a1c-a61e-419a-b100-fd7ea8bdfe1a",
   "metadata": {},
   "outputs": [
    {
     "data": {
      "text/plain": [
       "(469, 19)"
      ]
     },
     "execution_count": 12,
     "metadata": {},
     "output_type": "execute_result"
    }
   ],
   "source": [
    "X_processed.shape"
   ]
  },
  {
   "cell_type": "code",
   "execution_count": 13,
   "id": "f0562ae0-e05f-4969-b72e-6f40689c8b99",
   "metadata": {},
   "outputs": [
    {
     "data": {
      "text/plain": [
       "(469,)"
      ]
     },
     "execution_count": 13,
     "metadata": {},
     "output_type": "execute_result"
    }
   ],
   "source": [
    "y_train.shape"
   ]
  },
  {
   "cell_type": "code",
   "execution_count": 23,
   "id": "0c3ccde0-b983-43d3-b807-6b40cda75f29",
   "metadata": {},
   "outputs": [
    {
     "data": {
      "text/plain": [
       "0.5502173415694348"
      ]
     },
     "execution_count": 23,
     "metadata": {},
     "output_type": "execute_result"
    }
   ],
   "source": [
    "model = SVC()\n",
    "\n",
    "grid = { 'kernel' : ['linear' , 'rbf', 'sigmoid'],\n",
    "        'C' : [0.01, 0.1, 1, 10, 100],\n",
    "        'gamma' : stats.uniform()    \n",
    "}\n",
    "\n",
    "randsearch = RandomizedSearchCV(estimator=model, param_distributions=grid, n_iter=15, scoring='accuracy', n_jobs=-1)\n",
    "\n",
    "randsearch.fit(X_processed, y_train)\n",
    "\n",
    "randsearch.best_params_\n",
    "randsearch.best_score_"
   ]
  },
  {
   "cell_type": "code",
   "execution_count": 25,
   "id": "543201cb-ecbc-4106-a19e-9a86989e81e2",
   "metadata": {},
   "outputs": [
    {
     "data": {
      "text/plain": [
       "{'C': 10, 'gamma': 0.16565095444319844, 'kernel': 'linear'}"
      ]
     },
     "execution_count": 25,
     "metadata": {},
     "output_type": "execute_result"
    }
   ],
   "source": [
    "randsearch.best_params_\n"
   ]
  },
  {
   "cell_type": "code",
   "execution_count": null,
   "id": "59d826c0-6821-4c16-a3c8-6b0945633b3d",
   "metadata": {},
   "outputs": [],
   "source": []
  }
 ],
 "metadata": {
  "kernelspec": {
   "display_name": "Python 3 (ipykernel)",
   "language": "python",
   "name": "python3"
  },
  "language_info": {
   "codemirror_mode": {
    "name": "ipython",
    "version": 3
   },
   "file_extension": ".py",
   "mimetype": "text/x-python",
   "name": "python",
   "nbconvert_exporter": "python",
   "pygments_lexer": "ipython3",
   "version": "3.10.6"
  }
 },
 "nbformat": 4,
 "nbformat_minor": 5
}
