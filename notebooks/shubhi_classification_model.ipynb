{
 "cells": [
  {
   "cell_type": "code",
   "execution_count": 1,
   "id": "7c266cfc-1960-45a8-bd97-dba198b6d90f",
   "metadata": {},
   "outputs": [],
   "source": [
    "%load_ext autoreload\n",
    "%autoreload 2"
   ]
  },
  {
   "cell_type": "code",
   "execution_count": 2,
   "id": "ae79d30c-2c75-4515-905d-33425646505e",
   "metadata": {},
   "outputs": [],
   "source": [
    "import numpy as np\n",
    "import pandas as pd\n",
    "from scipy import stats\n",
    " \n",
    "from data_bpm.ml_logic.preprocessor import preprocess_features\n",
    "from data_bpm.ml_logic.registry import load_preproc_pipeline\n",
    "\n",
    "from sklearn.svm import SVC \n",
    "from sklearn.model_selection import RandomizedSearchCV, cross_validate"
   ]
  },
  {
   "cell_type": "code",
   "execution_count": 3,
   "id": "59732260-24eb-47b6-9ce8-54897605037a",
   "metadata": {},
   "outputs": [],
   "source": [
    "data = pd.read_csv('../raw_data/data_for_ml.csv',index_col=0)"
   ]
  },
  {
   "cell_type": "code",
   "execution_count": 4,
   "id": "1b2874ff-3d31-4f6f-942e-97bb756e8898",
   "metadata": {},
   "outputs": [
    {
     "data": {
      "text/html": [
       "<div>\n",
       "<style scoped>\n",
       "    .dataframe tbody tr th:only-of-type {\n",
       "        vertical-align: middle;\n",
       "    }\n",
       "\n",
       "    .dataframe tbody tr th {\n",
       "        vertical-align: top;\n",
       "    }\n",
       "\n",
       "    .dataframe thead th {\n",
       "        text-align: right;\n",
       "    }\n",
       "</style>\n",
       "<table border=\"1\" class=\"dataframe\">\n",
       "  <thead>\n",
       "    <tr style=\"text-align: right;\">\n",
       "      <th></th>\n",
       "      <th>description</th>\n",
       "      <th>headline</th>\n",
       "      <th>location</th>\n",
       "      <th>company</th>\n",
       "      <th>jobTitle</th>\n",
       "      <th>jobDescription</th>\n",
       "      <th>jobLocation</th>\n",
       "      <th>jobDateRange</th>\n",
       "      <th>jobDuration</th>\n",
       "      <th>company2</th>\n",
       "      <th>...</th>\n",
       "      <th>endorsement2</th>\n",
       "      <th>skill3</th>\n",
       "      <th>endorsement3</th>\n",
       "      <th>skill4</th>\n",
       "      <th>endorsement4</th>\n",
       "      <th>skill5</th>\n",
       "      <th>endorsement5</th>\n",
       "      <th>skill6</th>\n",
       "      <th>endorsement6</th>\n",
       "      <th>Attendance</th>\n",
       "    </tr>\n",
       "    <tr>\n",
       "      <th>UserID</th>\n",
       "      <th></th>\n",
       "      <th></th>\n",
       "      <th></th>\n",
       "      <th></th>\n",
       "      <th></th>\n",
       "      <th></th>\n",
       "      <th></th>\n",
       "      <th></th>\n",
       "      <th></th>\n",
       "      <th></th>\n",
       "      <th></th>\n",
       "      <th></th>\n",
       "      <th></th>\n",
       "      <th></th>\n",
       "      <th></th>\n",
       "      <th></th>\n",
       "      <th></th>\n",
       "      <th></th>\n",
       "      <th></th>\n",
       "      <th></th>\n",
       "      <th></th>\n",
       "    </tr>\n",
       "  </thead>\n",
       "  <tbody>\n",
       "    <tr>\n",
       "      <th>512.0</th>\n",
       "      <td>Experienced professional with the ability to c...</td>\n",
       "      <td>General Manager - US Finance, Legal, HR, Accou...</td>\n",
       "      <td>Carrollton, Texas, United States</td>\n",
       "      <td>orbis systems</td>\n",
       "      <td>General Manager, Orbis International Technolog...</td>\n",
       "      <td>A highly driven professional leading the US op...</td>\n",
       "      <td>Carrollton, Texas, United States</td>\n",
       "      <td>May 2022 - Present</td>\n",
       "      <td>1 yr 10 mos</td>\n",
       "      <td>Texas Instruments</td>\n",
       "      <td>...</td>\n",
       "      <td>21.0</td>\n",
       "      <td>Strategic Planning</td>\n",
       "      <td>21.0</td>\n",
       "      <td>Forecasting</td>\n",
       "      <td>21.0</td>\n",
       "      <td>Organizational Development</td>\n",
       "      <td>21.0</td>\n",
       "      <td>Business Strategy</td>\n",
       "      <td>21.0</td>\n",
       "      <td>0</td>\n",
       "    </tr>\n",
       "    <tr>\n",
       "      <th>652.0</th>\n",
       "      <td>I am a Product Owner at World Simplified UG, a...</td>\n",
       "      <td>Tech product support intern at Holidu</td>\n",
       "      <td>Berlin, Berlin, Germany</td>\n",
       "      <td>holidu</td>\n",
       "      <td>Tech product support intern</td>\n",
       "      <td>NaN</td>\n",
       "      <td>Munich, Bavaria, Germany · Hybrid</td>\n",
       "      <td>Oct 2023 - Present</td>\n",
       "      <td>5 mos</td>\n",
       "      <td>World Simplified UG</td>\n",
       "      <td>...</td>\n",
       "      <td>NaN</td>\n",
       "      <td>Team Leadership</td>\n",
       "      <td>NaN</td>\n",
       "      <td>Cross-functional Team Leadership</td>\n",
       "      <td>1.0</td>\n",
       "      <td>Project Planning</td>\n",
       "      <td>21.0</td>\n",
       "      <td>Business Development</td>\n",
       "      <td>NaN</td>\n",
       "      <td>0</td>\n",
       "    </tr>\n",
       "    <tr>\n",
       "      <th>618.0</th>\n",
       "      <td>Designer &amp; Problem Solver | CS Student | Aimin...</td>\n",
       "      <td>Making Interfaces Sexier - UI/UX/Dev</td>\n",
       "      <td>Berlin, Berlin, Germany</td>\n",
       "      <td>a.t.e.m. management gmbh</td>\n",
       "      <td>Web Designer</td>\n",
       "      <td>Skills: Web Design · Cascading Style Sheets (C...</td>\n",
       "      <td>Berlin, Germany</td>\n",
       "      <td>Aug 2022 - Present</td>\n",
       "      <td>1 yr 7 mos</td>\n",
       "      <td>Freelance</td>\n",
       "      <td>...</td>\n",
       "      <td>NaN</td>\n",
       "      <td>JavaScript</td>\n",
       "      <td>2.0</td>\n",
       "      <td>Cascading Style Sheets (CSS)</td>\n",
       "      <td>2.0</td>\n",
       "      <td>Front-End Development</td>\n",
       "      <td>1.0</td>\n",
       "      <td>Wireframing</td>\n",
       "      <td>1.0</td>\n",
       "      <td>0</td>\n",
       "    </tr>\n",
       "    <tr>\n",
       "      <th>96.0</th>\n",
       "      <td>NaN</td>\n",
       "      <td>Product &amp; Growth</td>\n",
       "      <td>Berlin, Berlin, Germany</td>\n",
       "      <td>clink</td>\n",
       "      <td>Chief Experience Officer</td>\n",
       "      <td>NaN</td>\n",
       "      <td>Berlin, Germany</td>\n",
       "      <td>Sep 2023 - Present</td>\n",
       "      <td>6 mos</td>\n",
       "      <td>OptioPay Group (now Clink)</td>\n",
       "      <td>...</td>\n",
       "      <td>40.0</td>\n",
       "      <td>Cross-functional Team Leadership</td>\n",
       "      <td>3.0</td>\n",
       "      <td>Business Development</td>\n",
       "      <td>33.0</td>\n",
       "      <td>Mobile Applications</td>\n",
       "      <td>10.0</td>\n",
       "      <td>Mobile Technology</td>\n",
       "      <td>35.0</td>\n",
       "      <td>0</td>\n",
       "    </tr>\n",
       "    <tr>\n",
       "      <th>194.0</th>\n",
       "      <td>As a product marketing manager at the JetBrain...</td>\n",
       "      <td>Product marketing manager at JetBrains | Mentor</td>\n",
       "      <td>Berlin, Berlin, Germany</td>\n",
       "      <td>jetbrains</td>\n",
       "      <td>Product Marketing Manager</td>\n",
       "      <td>NaN</td>\n",
       "      <td>Berlin, Germany</td>\n",
       "      <td>Oct 2021 - Present</td>\n",
       "      <td>2 yrs 5 mos</td>\n",
       "      <td>Product Marketing Alliance</td>\n",
       "      <td>...</td>\n",
       "      <td>8.0</td>\n",
       "      <td>Marketing Communications</td>\n",
       "      <td>8.0</td>\n",
       "      <td>Customer Insight</td>\n",
       "      <td>13.0</td>\n",
       "      <td>Market Analysis</td>\n",
       "      <td>12.0</td>\n",
       "      <td>Marketing Research</td>\n",
       "      <td>11.0</td>\n",
       "      <td>0</td>\n",
       "    </tr>\n",
       "  </tbody>\n",
       "</table>\n",
       "<p>5 rows × 37 columns</p>\n",
       "</div>"
      ],
      "text/plain": [
       "                                              description  \\\n",
       "UserID                                                      \n",
       "512.0   Experienced professional with the ability to c...   \n",
       "652.0   I am a Product Owner at World Simplified UG, a...   \n",
       "618.0   Designer & Problem Solver | CS Student | Aimin...   \n",
       "96.0                                                  NaN   \n",
       "194.0   As a product marketing manager at the JetBrain...   \n",
       "\n",
       "                                                 headline  \\\n",
       "UserID                                                      \n",
       "512.0   General Manager - US Finance, Legal, HR, Accou...   \n",
       "652.0               Tech product support intern at Holidu   \n",
       "618.0                Making Interfaces Sexier - UI/UX/Dev   \n",
       "96.0                                     Product & Growth   \n",
       "194.0     Product marketing manager at JetBrains | Mentor   \n",
       "\n",
       "                                location                   company  \\\n",
       "UserID                                                               \n",
       "512.0   Carrollton, Texas, United States             orbis systems   \n",
       "652.0            Berlin, Berlin, Germany                    holidu   \n",
       "618.0            Berlin, Berlin, Germany  a.t.e.m. management gmbh   \n",
       "96.0             Berlin, Berlin, Germany                     clink   \n",
       "194.0            Berlin, Berlin, Germany                 jetbrains   \n",
       "\n",
       "                                                 jobTitle  \\\n",
       "UserID                                                      \n",
       "512.0   General Manager, Orbis International Technolog...   \n",
       "652.0                         Tech product support intern   \n",
       "618.0                                        Web Designer   \n",
       "96.0                             Chief Experience Officer   \n",
       "194.0                           Product Marketing Manager   \n",
       "\n",
       "                                           jobDescription  \\\n",
       "UserID                                                      \n",
       "512.0   A highly driven professional leading the US op...   \n",
       "652.0                                                 NaN   \n",
       "618.0   Skills: Web Design · Cascading Style Sheets (C...   \n",
       "96.0                                                  NaN   \n",
       "194.0                                                 NaN   \n",
       "\n",
       "                              jobLocation        jobDateRange  jobDuration  \\\n",
       "UserID                                                                       \n",
       "512.0    Carrollton, Texas, United States  May 2022 - Present  1 yr 10 mos   \n",
       "652.0   Munich, Bavaria, Germany · Hybrid  Oct 2023 - Present        5 mos   \n",
       "618.0                     Berlin, Germany  Aug 2022 - Present   1 yr 7 mos   \n",
       "96.0                      Berlin, Germany  Sep 2023 - Present        6 mos   \n",
       "194.0                     Berlin, Germany  Oct 2021 - Present  2 yrs 5 mos   \n",
       "\n",
       "                          company2  ... endorsement2  \\\n",
       "UserID                              ...                \n",
       "512.0            Texas Instruments  ...         21.0   \n",
       "652.0          World Simplified UG  ...          NaN   \n",
       "618.0                    Freelance  ...          NaN   \n",
       "96.0    OptioPay Group (now Clink)  ...         40.0   \n",
       "194.0   Product Marketing Alliance  ...          8.0   \n",
       "\n",
       "                                  skill3 endorsement3  \\\n",
       "UserID                                                  \n",
       "512.0                 Strategic Planning         21.0   \n",
       "652.0                    Team Leadership          NaN   \n",
       "618.0                         JavaScript          2.0   \n",
       "96.0    Cross-functional Team Leadership          3.0   \n",
       "194.0           Marketing Communications          8.0   \n",
       "\n",
       "                                  skill4 endorsement4  \\\n",
       "UserID                                                  \n",
       "512.0                        Forecasting         21.0   \n",
       "652.0   Cross-functional Team Leadership          1.0   \n",
       "618.0       Cascading Style Sheets (CSS)          2.0   \n",
       "96.0                Business Development         33.0   \n",
       "194.0                   Customer Insight         13.0   \n",
       "\n",
       "                            skill5 endorsement5                skill6  \\\n",
       "UserID                                                                  \n",
       "512.0   Organizational Development         21.0     Business Strategy   \n",
       "652.0             Project Planning         21.0  Business Development   \n",
       "618.0        Front-End Development          1.0           Wireframing   \n",
       "96.0           Mobile Applications         10.0     Mobile Technology   \n",
       "194.0              Market Analysis         12.0    Marketing Research   \n",
       "\n",
       "       endorsement6 Attendance  \n",
       "UserID                          \n",
       "512.0          21.0          0  \n",
       "652.0           NaN          0  \n",
       "618.0           1.0          0  \n",
       "96.0           35.0          0  \n",
       "194.0          11.0          0  \n",
       "\n",
       "[5 rows x 37 columns]"
      ]
     },
     "execution_count": 4,
     "metadata": {},
     "output_type": "execute_result"
    }
   ],
   "source": [
    "data.head()"
   ]
  },
  {
   "cell_type": "code",
   "execution_count": 5,
   "id": "caf6b13e-9dd8-4e40-899f-14b19a9aecda",
   "metadata": {},
   "outputs": [
    {
     "data": {
      "text/plain": [
       "Attendance\n",
       "0    265\n",
       "1    204\n",
       "Name: count, dtype: int64"
      ]
     },
     "execution_count": 5,
     "metadata": {},
     "output_type": "execute_result"
    }
   ],
   "source": [
    "data['Attendance'].value_counts()\n"
   ]
  },
  {
   "cell_type": "code",
   "execution_count": 16,
   "id": "490ab851-baf1-400c-84e7-2c5d848c7dbe",
   "metadata": {},
   "outputs": [
    {
     "name": "stdout",
     "output_type": "stream",
     "text": [
      "✅ X_processed, with shape (469, 19)\n",
      "\u001b[34m\n",
      "Saving preprocessing pipeline from local disk...\u001b[0m\n",
      "✅ Preprocessing pipeline saved locally\n"
     ]
    },
    {
     "data": {
      "text/plain": [
       "array([[1.        , 0.07942238, 0.48854962, ..., 0.28560673, 0.5012473 ,\n",
       "        0.37360172],\n",
       "       [1.        , 0.01805054, 0.01908397, ..., 0.55462501, 0.48195116,\n",
       "        0.48788221],\n",
       "       [1.        , 0.06859206, 0.12977099, ..., 0.53936   , 0.3589593 ,\n",
       "        0.48345559],\n",
       "       ...,\n",
       "       [1.        , 0.02527076, 0.03053435, ..., 0.35047975, 0.46681548,\n",
       "        0.36767028],\n",
       "       [1.        , 0.09747292, 0.1870229 , ..., 0.3964628 , 0.43520686,\n",
       "        0.41195238],\n",
       "       [1.        , 0.07581227, 0.09923664, ..., 0.56068655, 0.51723509,\n",
       "        0.41072087]])"
      ]
     },
     "execution_count": 16,
     "metadata": {},
     "output_type": "execute_result"
    }
   ],
   "source": [
    "y_train = data['Attendance']\n",
    "X_train = data.drop(columns = ['Attendance'])\n",
    "\n",
    "X_processed = preprocess_features(X_train)\n",
    "X_processed"
   ]
  },
  {
   "cell_type": "code",
   "execution_count": 7,
   "id": "28b19a1c-a61e-419a-b100-fd7ea8bdfe1a",
   "metadata": {},
   "outputs": [
    {
     "data": {
      "text/plain": [
       "(469, 19)"
      ]
     },
     "execution_count": 7,
     "metadata": {},
     "output_type": "execute_result"
    }
   ],
   "source": [
    "X_processed.shape"
   ]
  },
  {
   "cell_type": "code",
   "execution_count": 8,
   "id": "f0562ae0-e05f-4969-b72e-6f40689c8b99",
   "metadata": {},
   "outputs": [
    {
     "data": {
      "text/plain": [
       "(469,)"
      ]
     },
     "execution_count": 8,
     "metadata": {},
     "output_type": "execute_result"
    }
   ],
   "source": [
    "y_train.shape"
   ]
  },
  {
   "cell_type": "code",
   "execution_count": 9,
   "id": "0c3ccde0-b983-43d3-b807-6b40cda75f29",
   "metadata": {},
   "outputs": [
    {
     "data": {
      "text/plain": [
       "0.5757263784031115"
      ]
     },
     "execution_count": 9,
     "metadata": {},
     "output_type": "execute_result"
    }
   ],
   "source": [
    "model = SVC()\n",
    "\n",
    "grid = { 'kernel' : ['linear', 'rbf', 'sigmoid'],\n",
    "        'C' : [0.01, 0.1, 1, 10, 100],\n",
    "        'gamma' : stats.uniform()    \n",
    "}\n",
    "\n",
    "randsearch = RandomizedSearchCV(estimator=model, param_distributions=grid, n_iter=500, scoring='accuracy', n_jobs=-1)\n",
    "\n",
    "randsearch.fit(X_processed, y_train)\n",
    "\n",
    "randsearch.best_score_"
   ]
  },
  {
   "cell_type": "code",
   "execution_count": 10,
   "id": "543201cb-ecbc-4106-a19e-9a86989e81e2",
   "metadata": {},
   "outputs": [
    {
     "data": {
      "text/plain": [
       "{'C': 100, 'gamma': 0.21658780941701816, 'kernel': 'rbf'}"
      ]
     },
     "execution_count": 10,
     "metadata": {},
     "output_type": "execute_result"
    }
   ],
   "source": [
    "randsearch.best_params_\n"
   ]
  },
  {
   "cell_type": "code",
   "execution_count": 11,
   "id": "59d826c0-6821-4c16-a3c8-6b0945633b3d",
   "metadata": {},
   "outputs": [],
   "source": [
    "final_model = randsearch.best_estimator_"
   ]
  },
  {
   "cell_type": "code",
   "execution_count": 12,
   "id": "dc68a781-dac1-4c7a-9cef-6e436823bcb4",
   "metadata": {},
   "outputs": [
    {
     "data": {
      "text/html": [
       "<div>\n",
       "<style scoped>\n",
       "    .dataframe tbody tr th:only-of-type {\n",
       "        vertical-align: middle;\n",
       "    }\n",
       "\n",
       "    .dataframe tbody tr th {\n",
       "        vertical-align: top;\n",
       "    }\n",
       "\n",
       "    .dataframe thead th {\n",
       "        text-align: right;\n",
       "    }\n",
       "</style>\n",
       "<table border=\"1\" class=\"dataframe\">\n",
       "  <thead>\n",
       "    <tr style=\"text-align: right;\">\n",
       "      <th></th>\n",
       "      <th>headline</th>\n",
       "      <th>description</th>\n",
       "      <th>jobTitle</th>\n",
       "      <th>jobDescription</th>\n",
       "      <th>jobDuration</th>\n",
       "      <th>jobDateRange</th>\n",
       "      <th>jobTitle2</th>\n",
       "      <th>jobDuration2</th>\n",
       "      <th>schoolDateRange</th>\n",
       "      <th>skill1</th>\n",
       "      <th>skill2</th>\n",
       "      <th>skill3</th>\n",
       "    </tr>\n",
       "  </thead>\n",
       "  <tbody>\n",
       "    <tr>\n",
       "      <th>0</th>\n",
       "      <td>Product Leader, Sustainability enthusiast</td>\n",
       "      <td>Bridging the world of technology and business ...</td>\n",
       "      <td>Head of Product</td>\n",
       "      <td>Spearhead product development and strategy for...</td>\n",
       "      <td>1 yr</td>\n",
       "      <td>Aug 2022 - Jul 2023</td>\n",
       "      <td>Product Lead</td>\n",
       "      <td>8 mos</td>\n",
       "      <td>Sep 2023 - Nov 2023</td>\n",
       "      <td>Management Consulting</td>\n",
       "      <td>Competitive Landscape</td>\n",
       "      <td>Stakeholder Management</td>\n",
       "    </tr>\n",
       "  </tbody>\n",
       "</table>\n",
       "</div>"
      ],
      "text/plain": [
       "                                    headline  \\\n",
       "0  Product Leader, Sustainability enthusiast   \n",
       "\n",
       "                                         description         jobTitle  \\\n",
       "0  Bridging the world of technology and business ...  Head of Product   \n",
       "\n",
       "                                      jobDescription jobDuration  \\\n",
       "0  Spearhead product development and strategy for...        1 yr   \n",
       "\n",
       "          jobDateRange     jobTitle2 jobDuration2      schoolDateRange  \\\n",
       "0  Aug 2022 - Jul 2023  Product Lead        8 mos  Sep 2023 - Nov 2023   \n",
       "\n",
       "                  skill1                 skill2                  skill3  \n",
       "0  Management Consulting  Competitive Landscape  Stakeholder Management  "
      ]
     },
     "execution_count": 12,
     "metadata": {},
     "output_type": "execute_result"
    }
   ],
   "source": [
    "X_pred = pd.read_csv('../raw_data/predict.csv')\n",
    "X_pred"
   ]
  },
  {
   "cell_type": "code",
   "execution_count": 18,
   "id": "bcf4335a-8f4b-4251-9a94-0f3e77a1ddbe",
   "metadata": {},
   "outputs": [
    {
     "name": "stdout",
     "output_type": "stream",
     "text": [
      "\u001b[34m\n",
      "Load preprocessing pipeline from local disk...\u001b[0m\n",
      "✅ Preprocessing pipeline loaded from local disk\n"
     ]
    },
    {
     "name": "stderr",
     "output_type": "stream",
     "text": [
      "/home/shubhi/.pyenv/versions/3.10.6/envs/data-bpm/lib/python3.10/site-packages/sklearn/decomposition/_truncated_svd.py:273: RuntimeWarning: invalid value encountered in divide\n",
      "  self.explained_variance_ratio_ = exp_var / full_var\n"
     ]
    },
    {
     "ename": "ValueError",
     "evalue": "X has 5 features, but MinMaxScaler is expecting 19 features as input.",
     "output_type": "error",
     "traceback": [
      "\u001b[0;31m---------------------------------------------------------------------------\u001b[0m",
      "\u001b[0;31mValueError\u001b[0m                                Traceback (most recent call last)",
      "Cell \u001b[0;32mIn[18], line 2\u001b[0m\n\u001b[1;32m      1\u001b[0m preproc_pipeline \u001b[38;5;241m=\u001b[39m load_preproc_pipeline()\n\u001b[0;32m----> 2\u001b[0m X_pred_processed \u001b[38;5;241m=\u001b[39m \u001b[43mpreproc_pipeline\u001b[49m\u001b[38;5;241;43m.\u001b[39;49m\u001b[43mtransform\u001b[49m\u001b[43m(\u001b[49m\u001b[43mX_pred\u001b[49m\u001b[43m)\u001b[49m\n\u001b[1;32m      3\u001b[0m X_pred_processed\n",
      "File \u001b[0;32m~/.pyenv/versions/3.10.6/envs/data-bpm/lib/python3.10/site-packages/sklearn/pipeline.py:905\u001b[0m, in \u001b[0;36mPipeline.transform\u001b[0;34m(self, X, **params)\u001b[0m\n\u001b[1;32m    903\u001b[0m Xt \u001b[38;5;241m=\u001b[39m X\n\u001b[1;32m    904\u001b[0m \u001b[38;5;28;01mfor\u001b[39;00m _, name, transform \u001b[38;5;129;01min\u001b[39;00m \u001b[38;5;28mself\u001b[39m\u001b[38;5;241m.\u001b[39m_iter():\n\u001b[0;32m--> 905\u001b[0m     Xt \u001b[38;5;241m=\u001b[39m \u001b[43mtransform\u001b[49m\u001b[38;5;241;43m.\u001b[39;49m\u001b[43mtransform\u001b[49m\u001b[43m(\u001b[49m\u001b[43mXt\u001b[49m\u001b[43m,\u001b[49m\u001b[43m \u001b[49m\u001b[38;5;241;43m*\u001b[39;49m\u001b[38;5;241;43m*\u001b[39;49m\u001b[43mrouted_params\u001b[49m\u001b[43m[\u001b[49m\u001b[43mname\u001b[49m\u001b[43m]\u001b[49m\u001b[38;5;241;43m.\u001b[39;49m\u001b[43mtransform\u001b[49m\u001b[43m)\u001b[49m\n\u001b[1;32m    906\u001b[0m \u001b[38;5;28;01mreturn\u001b[39;00m Xt\n",
      "File \u001b[0;32m~/.pyenv/versions/3.10.6/envs/data-bpm/lib/python3.10/site-packages/sklearn/utils/_set_output.py:295\u001b[0m, in \u001b[0;36m_wrap_method_output.<locals>.wrapped\u001b[0;34m(self, X, *args, **kwargs)\u001b[0m\n\u001b[1;32m    293\u001b[0m \u001b[38;5;129m@wraps\u001b[39m(f)\n\u001b[1;32m    294\u001b[0m \u001b[38;5;28;01mdef\u001b[39;00m \u001b[38;5;21mwrapped\u001b[39m(\u001b[38;5;28mself\u001b[39m, X, \u001b[38;5;241m*\u001b[39margs, \u001b[38;5;241m*\u001b[39m\u001b[38;5;241m*\u001b[39mkwargs):\n\u001b[0;32m--> 295\u001b[0m     data_to_wrap \u001b[38;5;241m=\u001b[39m \u001b[43mf\u001b[49m\u001b[43m(\u001b[49m\u001b[38;5;28;43mself\u001b[39;49m\u001b[43m,\u001b[49m\u001b[43m \u001b[49m\u001b[43mX\u001b[49m\u001b[43m,\u001b[49m\u001b[43m \u001b[49m\u001b[38;5;241;43m*\u001b[39;49m\u001b[43margs\u001b[49m\u001b[43m,\u001b[49m\u001b[43m \u001b[49m\u001b[38;5;241;43m*\u001b[39;49m\u001b[38;5;241;43m*\u001b[39;49m\u001b[43mkwargs\u001b[49m\u001b[43m)\u001b[49m\n\u001b[1;32m    296\u001b[0m     \u001b[38;5;28;01mif\u001b[39;00m \u001b[38;5;28misinstance\u001b[39m(data_to_wrap, \u001b[38;5;28mtuple\u001b[39m):\n\u001b[1;32m    297\u001b[0m         \u001b[38;5;66;03m# only wrap the first output for cross decomposition\u001b[39;00m\n\u001b[1;32m    298\u001b[0m         return_tuple \u001b[38;5;241m=\u001b[39m (\n\u001b[1;32m    299\u001b[0m             _wrap_data_with_container(method, data_to_wrap[\u001b[38;5;241m0\u001b[39m], X, \u001b[38;5;28mself\u001b[39m),\n\u001b[1;32m    300\u001b[0m             \u001b[38;5;241m*\u001b[39mdata_to_wrap[\u001b[38;5;241m1\u001b[39m:],\n\u001b[1;32m    301\u001b[0m         )\n",
      "File \u001b[0;32m~/.pyenv/versions/3.10.6/envs/data-bpm/lib/python3.10/site-packages/sklearn/preprocessing/_data.py:534\u001b[0m, in \u001b[0;36mMinMaxScaler.transform\u001b[0;34m(self, X)\u001b[0m\n\u001b[1;32m    530\u001b[0m check_is_fitted(\u001b[38;5;28mself\u001b[39m)\n\u001b[1;32m    532\u001b[0m xp, _ \u001b[38;5;241m=\u001b[39m get_namespace(X)\n\u001b[0;32m--> 534\u001b[0m X \u001b[38;5;241m=\u001b[39m \u001b[38;5;28;43mself\u001b[39;49m\u001b[38;5;241;43m.\u001b[39;49m\u001b[43m_validate_data\u001b[49m\u001b[43m(\u001b[49m\n\u001b[1;32m    535\u001b[0m \u001b[43m    \u001b[49m\u001b[43mX\u001b[49m\u001b[43m,\u001b[49m\n\u001b[1;32m    536\u001b[0m \u001b[43m    \u001b[49m\u001b[43mcopy\u001b[49m\u001b[38;5;241;43m=\u001b[39;49m\u001b[38;5;28;43mself\u001b[39;49m\u001b[38;5;241;43m.\u001b[39;49m\u001b[43mcopy\u001b[49m\u001b[43m,\u001b[49m\n\u001b[1;32m    537\u001b[0m \u001b[43m    \u001b[49m\u001b[43mdtype\u001b[49m\u001b[38;5;241;43m=\u001b[39;49m\u001b[43m_array_api\u001b[49m\u001b[38;5;241;43m.\u001b[39;49m\u001b[43msupported_float_dtypes\u001b[49m\u001b[43m(\u001b[49m\u001b[43mxp\u001b[49m\u001b[43m)\u001b[49m\u001b[43m,\u001b[49m\n\u001b[1;32m    538\u001b[0m \u001b[43m    \u001b[49m\u001b[43mforce_all_finite\u001b[49m\u001b[38;5;241;43m=\u001b[39;49m\u001b[38;5;124;43m\"\u001b[39;49m\u001b[38;5;124;43mallow-nan\u001b[39;49m\u001b[38;5;124;43m\"\u001b[39;49m\u001b[43m,\u001b[49m\n\u001b[1;32m    539\u001b[0m \u001b[43m    \u001b[49m\u001b[43mreset\u001b[49m\u001b[38;5;241;43m=\u001b[39;49m\u001b[38;5;28;43;01mFalse\u001b[39;49;00m\u001b[43m,\u001b[49m\n\u001b[1;32m    540\u001b[0m \u001b[43m\u001b[49m\u001b[43m)\u001b[49m\n\u001b[1;32m    542\u001b[0m X \u001b[38;5;241m*\u001b[39m\u001b[38;5;241m=\u001b[39m \u001b[38;5;28mself\u001b[39m\u001b[38;5;241m.\u001b[39mscale_\n\u001b[1;32m    543\u001b[0m X \u001b[38;5;241m+\u001b[39m\u001b[38;5;241m=\u001b[39m \u001b[38;5;28mself\u001b[39m\u001b[38;5;241m.\u001b[39mmin_\n",
      "File \u001b[0;32m~/.pyenv/versions/3.10.6/envs/data-bpm/lib/python3.10/site-packages/sklearn/base.py:654\u001b[0m, in \u001b[0;36mBaseEstimator._validate_data\u001b[0;34m(self, X, y, reset, validate_separately, cast_to_ndarray, **check_params)\u001b[0m\n\u001b[1;32m    651\u001b[0m     out \u001b[38;5;241m=\u001b[39m X, y\n\u001b[1;32m    653\u001b[0m \u001b[38;5;28;01mif\u001b[39;00m \u001b[38;5;129;01mnot\u001b[39;00m no_val_X \u001b[38;5;129;01mand\u001b[39;00m check_params\u001b[38;5;241m.\u001b[39mget(\u001b[38;5;124m\"\u001b[39m\u001b[38;5;124mensure_2d\u001b[39m\u001b[38;5;124m\"\u001b[39m, \u001b[38;5;28;01mTrue\u001b[39;00m):\n\u001b[0;32m--> 654\u001b[0m     \u001b[38;5;28;43mself\u001b[39;49m\u001b[38;5;241;43m.\u001b[39;49m\u001b[43m_check_n_features\u001b[49m\u001b[43m(\u001b[49m\u001b[43mX\u001b[49m\u001b[43m,\u001b[49m\u001b[43m \u001b[49m\u001b[43mreset\u001b[49m\u001b[38;5;241;43m=\u001b[39;49m\u001b[43mreset\u001b[49m\u001b[43m)\u001b[49m\n\u001b[1;32m    656\u001b[0m \u001b[38;5;28;01mreturn\u001b[39;00m out\n",
      "File \u001b[0;32m~/.pyenv/versions/3.10.6/envs/data-bpm/lib/python3.10/site-packages/sklearn/base.py:443\u001b[0m, in \u001b[0;36mBaseEstimator._check_n_features\u001b[0;34m(self, X, reset)\u001b[0m\n\u001b[1;32m    440\u001b[0m     \u001b[38;5;28;01mreturn\u001b[39;00m\n\u001b[1;32m    442\u001b[0m \u001b[38;5;28;01mif\u001b[39;00m n_features \u001b[38;5;241m!=\u001b[39m \u001b[38;5;28mself\u001b[39m\u001b[38;5;241m.\u001b[39mn_features_in_:\n\u001b[0;32m--> 443\u001b[0m     \u001b[38;5;28;01mraise\u001b[39;00m \u001b[38;5;167;01mValueError\u001b[39;00m(\n\u001b[1;32m    444\u001b[0m         \u001b[38;5;124mf\u001b[39m\u001b[38;5;124m\"\u001b[39m\u001b[38;5;124mX has \u001b[39m\u001b[38;5;132;01m{\u001b[39;00mn_features\u001b[38;5;132;01m}\u001b[39;00m\u001b[38;5;124m features, but \u001b[39m\u001b[38;5;132;01m{\u001b[39;00m\u001b[38;5;28mself\u001b[39m\u001b[38;5;241m.\u001b[39m\u001b[38;5;18m__class__\u001b[39m\u001b[38;5;241m.\u001b[39m\u001b[38;5;18m__name__\u001b[39m\u001b[38;5;132;01m}\u001b[39;00m\u001b[38;5;124m \u001b[39m\u001b[38;5;124m\"\u001b[39m\n\u001b[1;32m    445\u001b[0m         \u001b[38;5;124mf\u001b[39m\u001b[38;5;124m\"\u001b[39m\u001b[38;5;124mis expecting \u001b[39m\u001b[38;5;132;01m{\u001b[39;00m\u001b[38;5;28mself\u001b[39m\u001b[38;5;241m.\u001b[39mn_features_in_\u001b[38;5;132;01m}\u001b[39;00m\u001b[38;5;124m features as input.\u001b[39m\u001b[38;5;124m\"\u001b[39m\n\u001b[1;32m    446\u001b[0m     )\n",
      "\u001b[0;31mValueError\u001b[0m: X has 5 features, but MinMaxScaler is expecting 19 features as input."
     ]
    }
   ],
   "source": [
    "preproc_pipeline = load_preproc_pipeline()\n",
    "X_pred_processed = preproc_pipeline.transform(X_pred)\n",
    "X_pred_processed"
   ]
  },
  {
   "cell_type": "code",
   "execution_count": null,
   "id": "73ae9b15-598c-46a4-bb27-17e38fd6a1c1",
   "metadata": {},
   "outputs": [],
   "source": [
    "final_model.predict_proba(X_pred_processed)"
   ]
  }
 ],
 "metadata": {
  "kernelspec": {
   "display_name": "Python 3 (ipykernel)",
   "language": "python",
   "name": "python3"
  },
  "language_info": {
   "codemirror_mode": {
    "name": "ipython",
    "version": 3
   },
   "file_extension": ".py",
   "mimetype": "text/x-python",
   "name": "python",
   "nbconvert_exporter": "python",
   "pygments_lexer": "ipython3",
   "version": "3.10.6"
  }
 },
 "nbformat": 4,
 "nbformat_minor": 5
}
